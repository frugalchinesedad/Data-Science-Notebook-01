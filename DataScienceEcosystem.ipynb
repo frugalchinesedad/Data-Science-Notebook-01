{
 "cells": [
  {
   "cell_type": "markdown",
   "id": "9f0f8ed9-245a-4691-b10a-86572d38b9bd",
   "metadata": {},
   "source": [
    "# Data Science Tools and Ecosystem"
   ]
  },
  {
   "cell_type": "markdown",
   "id": "56c79670-b3af-4c1b-b699-93c72ed82405",
   "metadata": {},
   "source": [
    "In this notebook, Data Science Tools and Ecosystem are summarized."
   ]
  },
  {
   "cell_type": "markdown",
   "id": "6dd03e34-97c1-415a-91f0-30e7f454be6d",
   "metadata": {},
   "source": [
    "Some of the popular languages that Data Scientists use are:\n",
    "1. Python\n",
    "2. R\n",
    "3. Scala"
   ]
  },
  {
   "cell_type": "markdown",
   "id": "6bb30bc8-9bf5-4393-8d31-c77ca094f7b5",
   "metadata": {},
   "source": [
    "Some of the commonly used libraries used by Data Scientists include:\n",
    "1. Numpy\n",
    "2. Matlibplot\n",
    "3. Scikit-Learn"
   ]
  },
  {
   "cell_type": "markdown",
   "id": "35e40375-a36d-4329-9a04-e731aadbf928",
   "metadata": {},
   "source": [
    "| Data Science Tools |\n",
    "|--------------------|\n",
    "| Jupyter Notebooks |\n",
    "| Jupyter Labs |\n",
    "| RStudio |"
   ]
  },
  {
   "cell_type": "markdown",
   "id": "f1992590-2e23-4303-a6b2-ee3cde86a004",
   "metadata": {},
   "source": [
    "### Below are a few examples of evaluating arithmetic expressions in Python"
   ]
  },
  {
   "cell_type": "code",
   "execution_count": 18,
   "id": "371ea814-5955-4f63-bce2-5d1beb91c757",
   "metadata": {},
   "outputs": [
    {
     "data": {
      "text/plain": [
       "17"
      ]
     },
     "execution_count": 18,
     "metadata": {},
     "output_type": "execute_result"
    }
   ],
   "source": [
    "# This a simple arithmetic expression to mutiply then add integers\n",
    "\n",
    "(3*4)+5"
   ]
  },
  {
   "cell_type": "code",
   "execution_count": 19,
   "id": "28310274-a681-4f16-8c97-647b4246a2d3",
   "metadata": {},
   "outputs": [
    {
     "name": "stdout",
     "output_type": "stream",
     "text": [
      "200 minutes is 3.3333333333333335 hours.\n"
     ]
    }
   ],
   "source": [
    "# This will convert 200 minutes to hours by dividing by 60\n",
    "\n",
    "minutes = 200\n",
    "hours = minutes/60\n",
    "print(minutes,\"minutes is\",hours, \"hours.\")"
   ]
  },
  {
   "cell_type": "markdown",
   "id": "c1eff45f-b281-4629-bfc8-f920603e138f",
   "metadata": {},
   "source": [
    "__Objectives__\n",
    "- List popular languages for Data Science\n",
    "- List commonly used libraries used by Data Scientists\n",
    "- Give examples of simple arithmetic expressions in Python\n",
    "  "
   ]
  },
  {
   "cell_type": "markdown",
   "id": "35868813-0c8f-45b3-88e8-0a1f6a68adb0",
   "metadata": {},
   "source": [
    "## Author\n",
    "John Woo"
   ]
  },
  {
   "cell_type": "code",
   "execution_count": null,
   "id": "b40f9e56-c708-42a4-bcf4-55bfc1ef22ea",
   "metadata": {},
   "outputs": [],
   "source": []
  }
 ],
 "metadata": {
  "kernelspec": {
   "display_name": "Python 3 (ipykernel)",
   "language": "python",
   "name": "python3"
  },
  "language_info": {
   "codemirror_mode": {
    "name": "ipython",
    "version": 3
   },
   "file_extension": ".py",
   "mimetype": "text/x-python",
   "name": "python",
   "nbconvert_exporter": "python",
   "pygments_lexer": "ipython3",
   "version": "3.11.0"
  }
 },
 "nbformat": 4,
 "nbformat_minor": 5
}
